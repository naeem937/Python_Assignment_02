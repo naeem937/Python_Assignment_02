{
 "cells": [
  {
   "cell_type": "markdown",
   "metadata": {},
   "source": [
    "# The ABC company has hired you as an intern on the coding team that creates e-commerce applications.  \n",
    "You must write a script that asks the user for a value. The value must be used as a whole number in a calculation, even if the user enters a decimal value. \n",
    "\n",
    "You need to write the code to meet the requirements."
   ]
  },
  {
   "cell_type": "code",
   "execution_count": 6,
   "metadata": {},
   "outputs": [
    {
     "name": "stdout",
     "output_type": "stream",
     "text": [
      "Enter The No of Items Present in the Cart : 6.0\n",
      "6.0\n"
     ]
    }
   ],
   "source": [
    "items = float(input(\"Enter The No of Items Present in the Cart : \"))\n",
    "print(items)"
   ]
  },
  {
   "cell_type": "code",
   "execution_count": 10,
   "metadata": {},
   "outputs": [
    {
     "name": "stdout",
     "output_type": "stream",
     "text": [
      "Thankyou For Purchasing 6 items From ABC\n"
     ]
    }
   ],
   "source": [
    "print(\"Thankyou For Purchasing\",int(items),\"items From ABC\") # The Whole No Will Be Used For Every Calculation"
   ]
  },
  {
   "cell_type": "markdown",
   "metadata": {},
   "source": [
    "# You are creating a Python program that shows a congratulation message to employees on their service anniversary.\n",
    "You need to calculate the number of years of service and print a congratulatory message. You should take the inputs from the users where necessary"
   ]
  },
  {
   "cell_type": "code",
   "execution_count": 12,
   "metadata": {},
   "outputs": [
    {
     "name": "stdout",
     "output_type": "stream",
     "text": [
      "Enter The Year in Which You've Started Your Job ? : 2010\n"
     ]
    }
   ],
   "source": [
    "Start_Year = int(input(\"Enter The Year in Which You've Started Your Job ? : \"))"
   ]
  },
  {
   "cell_type": "code",
   "execution_count": 13,
   "metadata": {},
   "outputs": [
    {
     "name": "stdout",
     "output_type": "stream",
     "text": [
      "Enter The Year in Which You Are Leaving The Job ? : 2016\n"
     ]
    }
   ],
   "source": [
    "End_Year = int(input(\"Enter The Year in Which You Are Leaving The Job ? : \"))"
   ]
  },
  {
   "cell_type": "code",
   "execution_count": 14,
   "metadata": {},
   "outputs": [
    {
     "name": "stdout",
     "output_type": "stream",
     "text": [
      "Congratulations! For Serving 6 Years in The Company\n"
     ]
    }
   ],
   "source": [
    "print(\"Congratulations! For Serving\",End_Year-Start_Year,\"Years in The Company\" )"
   ]
  },
  {
   "cell_type": "markdown",
   "metadata": {},
   "source": [
    "# Write a Python program to convert temperatures  from fahrenheit to celsius, \n",
    "#step 1: take \"fahrenheit Temperature\" from user in integer data type\n",
    "#step 2: apply formula that is       (  C = (5/9) * (fahrenheit_temperature - 32)  )\n",
    "#step 3: print step 2. "
   ]
  },
  {
   "cell_type": "code",
   "execution_count": 30,
   "metadata": {},
   "outputs": [
    {
     "name": "stdout",
     "output_type": "stream",
     "text": [
      "Enter the Temperature in Farenheit : 50\n"
     ]
    }
   ],
   "source": [
    "Temp_Farenheit = int(input(\"Enter the Temperature in Farenheit : \"))"
   ]
  },
  {
   "cell_type": "code",
   "execution_count": 31,
   "metadata": {},
   "outputs": [],
   "source": [
    "Temp_Celsius = ((5/9)*(Temp_Farenheit-32))"
   ]
  },
  {
   "cell_type": "code",
   "execution_count": 32,
   "metadata": {},
   "outputs": [
    {
     "name": "stdout",
     "output_type": "stream",
     "text": [
      "The Temperature in Celsius is 10.0 Centigrade.\n"
     ]
    }
   ],
   "source": [
    "print(\"The Temperature in Celsius is\", Temp_Celsius , \"Centigrade.\")"
   ]
  },
  {
   "cell_type": "markdown",
   "metadata": {},
   "source": [
    "<h3>assign a vlue to grade by checking the following conditions:: </h3>\n",
    "<h3>if % is greater then and equal to 90 and less then 100 grade is A+ </h3>\n",
    "<h3>if % is greater then and equal to 80 and less then 90 grade is A </h3>\n",
    "<h3>if % is greater then and equal to 70 and less then 80 grade is B </h3>\n",
    "<h3>if % is greater then and equal to 60 and less then 70 grade is C </h3>\n",
    "<h3>if % is less than 60 grade is FAIL </h3>\n"
   ]
  },
  {
   "cell_type": "code",
   "execution_count": 33,
   "metadata": {},
   "outputs": [],
   "source": [
    "# From The Previous Assignment\n",
    "\n",
    "Maths = 95\n",
    "English = 85\n",
    "Urdu = 70\n",
    "Physics = 80\n",
    "Chemistry = 75"
   ]
  },
  {
   "cell_type": "code",
   "execution_count": 35,
   "metadata": {},
   "outputs": [
    {
     "name": "stdout",
     "output_type": "stream",
     "text": [
      "Marks Obtained -> 405\n",
      "Percentage -> 81.0 %\n"
     ]
    }
   ],
   "source": [
    "# From The Previous Assignment\n",
    "\n",
    "Total_Marks = 500\n",
    "\n",
    "Obtained_Marks = Maths + English + Urdu + Physics + Chemistry\n",
    "\n",
    "print(\"Marks Obtained ->\" , Obtained_Marks)\n",
    "\n",
    "Percentage = (Obtained_Marks/Total_Marks)*100\n",
    "\n",
    "print(\"Percentage ->\", Percentage,'%')\n"
   ]
  },
  {
   "cell_type": "code",
   "execution_count": 38,
   "metadata": {},
   "outputs": [],
   "source": [
    "Grade = None\n",
    "\n",
    "if Percentage >= 90 and Percentage <= 100 :\n",
    "    Grade = \"A+\"\n",
    "elif Percentage >= 80 and Percentage < 90 :\n",
    "    Grade = \"A\"\n",
    "elif Percentage >= 70 and Percentage < 80 :\n",
    "    Grade = \"B\"\n",
    "elif Percentage >= 60 and Percentage < 70 :\n",
    "    Grade = \"C\"\n",
    "elif Percentage < 60 :\n",
    "    Grade = \"F\"\n"
   ]
  },
  {
   "cell_type": "markdown",
   "metadata": {},
   "source": [
    "<h3>Print grade percentage and obtained marks</h3>"
   ]
  },
  {
   "cell_type": "code",
   "execution_count": 39,
   "metadata": {},
   "outputs": [
    {
     "name": "stdout",
     "output_type": "stream",
     "text": [
      "Marks Obtained 405 Percentage is 81.0 % Grade is A\n"
     ]
    }
   ],
   "source": [
    "print(\"Marks Obtained\", Obtained_Marks, \"Percentage is\", Percentage, \"%\", \"Grade is\", Grade)"
   ]
  }
 ],
 "metadata": {
  "kernelspec": {
   "display_name": "Python 3",
   "language": "python",
   "name": "python3"
  },
  "language_info": {
   "codemirror_mode": {
    "name": "ipython",
    "version": 3
   },
   "file_extension": ".py",
   "mimetype": "text/x-python",
   "name": "python",
   "nbconvert_exporter": "python",
   "pygments_lexer": "ipython3",
   "version": "3.7.3"
  }
 },
 "nbformat": 4,
 "nbformat_minor": 2
}
